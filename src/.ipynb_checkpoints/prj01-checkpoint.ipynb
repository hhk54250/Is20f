{
 "cells": [
  {
   "cell_type": "markdown",
   "metadata": {},
   "source": [
    "# Use Fourier Transform to evaluate options"
   ]
  },
  {
   "cell_type": "markdown",
   "metadata": {},
   "source": [
    "## BSM\n",
    "\n",
    "We denote by $GBM(s, r, \\sigma^2)$ the dynamics\n",
    "$$d S_t = r S_t dt + \\sigma S_t dW_t, S_{0} = s$$\n",
    "Non-negativity of the GBM process is good for modeling stock price, namely BSM.\n",
    "Let\n",
    "$X_t = \\ln S_t$ be the log price. Then, the characteristic function of $X_t$ is\n",
    "$$\\phi_t = \\exp \\{iu (s + (r-\\frac 1 2 \\sigma^2)t) - \\frac{u^2 \\sigma^2 t}{2}\\}.$$\n",
    "\n"
   ]
  },
  {
   "cell_type": "code",
   "execution_count": 1,
   "metadata": {},
   "outputs": [],
   "source": [
    "class BSM:\n",
    "    def __init__(self, S0, r, sigma):\n",
    "        self.S0 = S0\n",
    "        self.r = r\n",
    "        self.sigma = sigma\n",
    "        \n",
    "    #characteristic function for $ln S_T$\n",
    "    def charfun(self, T, u):\n",
    "        pass"
   ]
  },
  {
   "cell_type": "markdown",
   "metadata": {},
   "source": [
    "- Evaluate Call(K=110, T=1) of BSM(100, 0.0475, 0.2)"
   ]
  },
  {
   "cell_type": "markdown",
   "metadata": {},
   "source": [
    "## Heston\n",
    "\n",
    "In the Heston model, the dynamic involves two processes $(S_{t}, \\nu_{t})$.\n",
    "More precisely, the asset price $S$ follows generalized geometric Brownian motion with random volatility process $\\sqrt{\\nu_{t}}$, i.e.  \n",
    "$$d S_{t} = r S_{t} dt + \\sqrt{\\nu_{t}} S_{t} dW_{1,t},$$\n",
    "while squared of volatility process $\\nu$ follows CIR process\n",
    "$$ d \\nu_{t} = \\kappa (\\theta - \\nu_{t}) dt + \\xi \\sqrt{\\nu_{t}} (\\rho dW_{1,t} + \n",
    "\\bar \\rho d W_{2,t})$$\n",
    "with $\\rho^{2} + \\bar \\rho^{2} = 1.$ "
   ]
  },
  {
   "cell_type": "code",
   "execution_count": 2,
   "metadata": {},
   "outputs": [],
   "source": [
    "# Heston model    \n",
    "class Heston:\n",
    "    def __init__(self, S0, v0, r, kappa, theta, xi, rho):\n",
    "        self.S0 = S0\n",
    "        self.v0 = v0\n",
    "        self.r = r\n",
    "        self.kappa = kappa\n",
    "        self.theta = theta\n",
    "        self.xi = xi\n",
    "        self.rho = rho"
   ]
  },
  {
   "cell_type": "markdown",
   "metadata": {},
   "source": [
    "- Find the price of Call(K=80, T=10) of Heston(100, 0.0175, 0., 1.5768, 0.0398, 0.5751, -0.5751)"
   ]
  },
  {
   "cell_type": "code",
   "execution_count": null,
   "metadata": {},
   "outputs": [],
   "source": []
  }
 ],
 "metadata": {
  "kernelspec": {
   "display_name": "Python 3",
   "language": "python",
   "name": "python3"
  },
  "language_info": {
   "codemirror_mode": {
    "name": "ipython",
    "version": 3
   },
   "file_extension": ".py",
   "mimetype": "text/x-python",
   "name": "python",
   "nbconvert_exporter": "python",
   "pygments_lexer": "ipython3",
   "version": "3.7.7"
  }
 },
 "nbformat": 4,
 "nbformat_minor": 4
}
